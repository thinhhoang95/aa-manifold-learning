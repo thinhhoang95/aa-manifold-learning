{
 "cells": [
  {
   "cell_type": "markdown",
   "metadata": {},
   "source": [
    "# Testing Singular Value Thresholding Algorithm\n",
    "\n",
    "In this notebook, we implement and test the Singular Value Thresholding Algorithm (SVT)."
   ]
  },
  {
   "cell_type": "code",
   "execution_count": 30,
   "metadata": {},
   "outputs": [],
   "source": [
    "import numpy as np \n",
    "from scipy import sparse as sparse\n",
    "from scipy.sparse import linalg as slinalg\n",
    "\n",
    "def SVT(X, tau):\n",
    "    \"\"\"Perform Singular Value Thresholding\n",
    "\n",
    "    Args:\n",
    "        X (np.array): the matrix to be thresholded\n",
    "        tau (number): the parameter associated with the nuclear norm\n",
    "\n",
    "    Returns:\n",
    "        number: SVTed matrix\n",
    "    \"\"\"\n",
    "    svd_k = 6\n",
    "    # Convert to sparse matrix Xs, s stands for sparse\n",
    "    Xs = sparse.csc_matrix(X)\n",
    "    # SVD decomposition\n",
    "    u, s, vh = slinalg.svds(Xs, k=svd_k)\n",
    "    # Shrink the singular values by tau:\n",
    "    s_new = sparse.diags(np.maximum(0,s-tau))\n",
    "    return u @ s_new @ vh"
   ]
  },
  {
   "cell_type": "code",
   "execution_count": 19,
   "metadata": {},
   "outputs": [],
   "source": [
    "def eval(X: np.array, Y: np.array):\n",
    "    \"\"\"Calculate the expression 1/2||X-Y||_F^2 + tau ||X||*\n",
    "    \n",
    "    Args:\n",
    "        X (np.array): the thresholded matrix\n",
    "        Y (np.array): the original matrix\n",
    "\n",
    "    Returns:\n",
    "        number: the objective function 1/2||X-Y||_F^2 + tau ||X||*\n",
    "    \"\"\"\n",
    "\n",
    "    fr_term = 0.5 * np.linalg.norm(X-Y, ord=\"fro\") # Frobenius norm\n",
    "    u, s, vh = np.linalg.svd(X)\n",
    "    nn_term = np.sum(s)\n",
    "\n",
    "    return fr_term+nn_term\n"
   ]
  },
  {
   "cell_type": "markdown",
   "metadata": {},
   "source": [
    "Now let's test with a sample uniformly random matrix:"
   ]
  },
  {
   "cell_type": "code",
   "execution_count": 20,
   "metadata": {},
   "outputs": [],
   "source": [
    "np.random.seed(6969)\n",
    "M = np.random.rand(10,10)"
   ]
  },
  {
   "cell_type": "code",
   "execution_count": 21,
   "metadata": {},
   "outputs": [],
   "source": [
    "M_star = SVT(M, 0.15)"
   ]
  },
  {
   "cell_type": "code",
   "execution_count": 23,
   "metadata": {},
   "outputs": [],
   "source": [
    "from matplotlib import pyplot as plt"
   ]
  },
  {
   "cell_type": "code",
   "execution_count": 29,
   "metadata": {},
   "outputs": [
    {
     "name": "stdout",
     "output_type": "stream",
     "text": [
      "Best M:  10.584342488327456\n",
      "Minimum of J:  11.877280441399266\n"
     ]
    },
    {
     "data": {
      "image/png": "[encoded data removed]",
      "text/plain": [
       "<Figure size 432x288 with 1 Axes>"
      ]
     },
     "metadata": {
      "needs_background": "light"
     },
     "output_type": "display_data"
    }
   ],
   "source": [
    "J_star = eval(M_star, M)\n",
    "print('Best M: ', J_star)\n",
    "J = []\n",
    "for i in range(2000):\n",
    "    N = np.random.rand(10,10)\n",
    "    J.append(eval(N, M))\n",
    "\n",
    "plt.hist(np.array(J))\n",
    "print('Minimum of J: ', np.min(J))\n"
   ]
  },
  {
   "cell_type": "markdown",
   "metadata": {},
   "source": [
    "So it does indeed look like the SVT function could minimize the cost function."
   ]
  },
  {
   "cell_type": "markdown",
   "metadata": {},
   "source": []
  }
 ],
 "metadata": {
  "kernelspec": {
   "display_name": "Python 3.8.8 ('liberty')",
   "language": "python",
   "name": "python3"
  },
  "language_info": {
   "codemirror_mode": {
    "name": "ipython",
    "version": 3
   },
   "file_extension": ".py",
   "mimetype": "text/x-python",
   "name": "python",
   "nbconvert_exporter": "python",
   "pygments_lexer": "ipython3",
   "version": "3.8.13"
  },
  "orig_nbformat": 4,
  "vscode": {
   "interpreter": {
    "hash": "54f3a96195ab79709a6bbeee98cce8dfa439582a7ff5f18430a4a93466825c53"
   }
  }
 },
 "nbformat": 4,
 "nbformat_minor": 2
}
