{
 "cells": [
  {
   "cell_type": "markdown",
   "metadata": {},
   "source": [
    "# Animation: weather + air traffic"
   ]
  },
  {
   "cell_type": "markdown",
   "metadata": {},
   "source": [
    "Airport: Dallas Fort Worth (KDFW / DFW)\n",
    "\n",
    "Date: 24th May 2021, from 15:00 to 19:00"
   ]
  },
  {
   "cell_type": "code",
   "execution_count": 1,
   "metadata": {},
   "outputs": [
    {
     "name": "stderr",
     "output_type": "stream",
     "text": [
      "/Users/thinhhoang/miniforge3/envs/traffic/lib/python3.9/site-packages/cartes/osm/requests.py:11: TqdmExperimentalWarning: Using `tqdm.autonotebook.tqdm` in notebook mode. Use `tqdm.tqdm` instead to force console mode (e.g. in jupyter console)\n",
      "  from tqdm.autonotebook import tqdm\n"
     ]
    }
   ],
   "source": [
    "from traffic.data import opensky\n",
    "from traffic.data import eurofirs\n",
    "import matplotlib.pyplot as plt \n",
    "import matplotlib.animation as animation\n",
    "import cartopy.feature as cfeature\n",
    "%matplotlib inline\n",
    "opensky.username='thinhhoang'\n",
    "opensky.password='iQ6^yrwe7o3m'\n",
    "import cartes.crs as ccrs\n",
    "from cartes.utils.features import countries\n",
    "import pandas as pd\n",
    "import numpy as np\n",
    "import pygrib\n",
    "\n",
    "projection = ccrs.LambertConformal(\n",
    "    central_longitude = -97.5,\n",
    "    central_latitude = 38.5,\n",
    "    standard_parallels = (38.5,38.5),\n",
    "    cutoff = 0) # this is the projection that is used to draw the map. For contiguous United States, use LambertConformal"
   ]
  },
  {
   "cell_type": "code",
   "execution_count": 2,
   "metadata": {},
   "outputs": [],
   "source": [
    "import pickle\n",
    "def save_fl_data_to_pickle(fl, data: pd.DataFrame):\n",
    "    if fl is not None:\n",
    "        with open('openskyobject.pkl', 'wb') as f:\n",
    "            pickle.dump(fl, f)\n",
    "    if data is not None:\n",
    "        data.to_csv('data.csv')"
   ]
  },
  {
   "cell_type": "markdown",
   "metadata": {},
   "source": [
    "Change the use_local_db variable to True if one wishes to load the data from local storage, instead of downloading from OpenSky Database every single time. This helps speed up the data loading process.\n",
    "\n",
    "Note: for first time run, consider setting it to True."
   ]
  },
  {
   "cell_type": "code",
   "execution_count": 3,
   "metadata": {},
   "outputs": [
    {
     "data": {
      "application/vnd.jupyter.widget-view+json": {
       "model_id": "4d13c89685dd4d39927d68e041b8c6e9",
       "version_major": 2,
       "version_minor": 0
      },
      "text/plain": [
       "Output()"
      ]
     },
     "metadata": {},
     "output_type": "display_data"
    },
    {
     "data": {
      "text/html": [
       "<pre style=\"white-space:pre;overflow-x:auto;line-height:normal;font-family:Menlo,'DejaVu Sans Mono',consolas,'Courier New',monospace\">/Users/thinhhoang/miniforge3/envs/traffic/lib/python3.9/site-packages/ipywidgets/widgets/widg\n",
       "et_output.py:111: DeprecationWarning: Kernel._parent_header is deprecated in ipykernel 6. Use\n",
       ".get_parent()\n",
       "  if ip and hasattr(ip, 'kernel') and hasattr(ip.kernel, '_parent_header'):\n",
       "</pre>\n"
      ],
      "text/plain": [
       "/Users/thinhhoang/miniforge3/envs/traffic/lib/python3.9/site-packages/ipywidgets/widgets/widg\n",
       "et_output.py:111: DeprecationWarning: Kernel._parent_header is deprecated in ipykernel 6. Use\n",
       ".get_parent()\n",
       "  if ip and hasattr(ip, 'kernel') and hasattr(ip.kernel, '_parent_header'):\n"
      ]
     },
     "metadata": {},
     "output_type": "display_data"
    },
    {
     "data": {
      "text/html": [
       "<pre style=\"white-space:pre;overflow-x:auto;line-height:normal;font-family:Menlo,'DejaVu Sans Mono',consolas,'Courier New',monospace\">/Users/thinhhoang/miniforge3/envs/traffic/lib/python3.9/site-packages/ipywidgets/widgets/widg\n",
       "et_output.py:111: DeprecationWarning: Kernel._parent_header is deprecated in ipykernel 6. Use\n",
       ".get_parent()\n",
       "  if ip and hasattr(ip, 'kernel') and hasattr(ip.kernel, '_parent_header'):\n",
       "</pre>\n"
      ],
      "text/plain": [
       "/Users/thinhhoang/miniforge3/envs/traffic/lib/python3.9/site-packages/ipywidgets/widgets/widg\n",
       "et_output.py:111: DeprecationWarning: Kernel._parent_header is deprecated in ipykernel 6. Use\n",
       ".get_parent()\n",
       "  if ip and hasattr(ip, 'kernel') and hasattr(ip.kernel, '_parent_header'):\n"
      ]
     },
     "metadata": {},
     "output_type": "display_data"
    },
    {
     "data": {
      "text/html": [
       "<pre style=\"white-space:pre;overflow-x:auto;line-height:normal;font-family:Menlo,'DejaVu Sans Mono',consolas,'Courier New',monospace\">/Users/thinhhoang/miniforge3/envs/traffic/lib/python3.9/site-packages/ipywidgets/widgets/widg\n",
       "et_output.py:111: DeprecationWarning: Kernel._parent_header is deprecated in ipykernel 6. Use\n",
       ".get_parent()\n",
       "  if ip and hasattr(ip, 'kernel') and hasattr(ip.kernel, '_parent_header'):\n",
       "</pre>\n"
      ],
      "text/plain": [
       "/Users/thinhhoang/miniforge3/envs/traffic/lib/python3.9/site-packages/ipywidgets/widgets/widg\n",
       "et_output.py:111: DeprecationWarning: Kernel._parent_header is deprecated in ipykernel 6. Use\n",
       ".get_parent()\n",
       "  if ip and hasattr(ip, 'kernel') and hasattr(ip.kernel, '_parent_header'):\n"
      ]
     },
     "metadata": {},
     "output_type": "display_data"
    },
    {
     "data": {
      "text/html": [
       "<pre style=\"white-space:pre;overflow-x:auto;line-height:normal;font-family:Menlo,'DejaVu Sans Mono',consolas,'Courier New',monospace\">/Users/thinhhoang/miniforge3/envs/traffic/lib/python3.9/site-packages/ipywidgets/widgets/widg\n",
       "et_output.py:111: DeprecationWarning: Kernel._parent_header is deprecated in ipykernel 6. Use\n",
       ".get_parent()\n",
       "  if ip and hasattr(ip, 'kernel') and hasattr(ip.kernel, '_parent_header'):\n",
       "</pre>\n"
      ],
      "text/plain": [
       "/Users/thinhhoang/miniforge3/envs/traffic/lib/python3.9/site-packages/ipywidgets/widgets/widg\n",
       "et_output.py:111: DeprecationWarning: Kernel._parent_header is deprecated in ipykernel 6. Use\n",
       ".get_parent()\n",
       "  if ip and hasattr(ip, 'kernel') and hasattr(ip.kernel, '_parent_header'):\n"
      ]
     },
     "metadata": {},
     "output_type": "display_data"
    },
    {
     "data": {
      "text/html": [
       "<pre style=\"white-space:pre;overflow-x:auto;line-height:normal;font-family:Menlo,'DejaVu Sans Mono',consolas,'Courier New',monospace\">/Users/thinhhoang/miniforge3/envs/traffic/lib/python3.9/site-packages/ipywidgets/widgets/widg\n",
       "et_output.py:111: DeprecationWarning: Kernel._parent_header is deprecated in ipykernel 6. Use\n",
       ".get_parent()\n",
       "  if ip and hasattr(ip, 'kernel') and hasattr(ip.kernel, '_parent_header'):\n",
       "</pre>\n"
      ],
      "text/plain": [
       "/Users/thinhhoang/miniforge3/envs/traffic/lib/python3.9/site-packages/ipywidgets/widgets/widg\n",
       "et_output.py:111: DeprecationWarning: Kernel._parent_header is deprecated in ipykernel 6. Use\n",
       ".get_parent()\n",
       "  if ip and hasattr(ip, 'kernel') and hasattr(ip.kernel, '_parent_header'):\n"
      ]
     },
     "metadata": {},
     "output_type": "display_data"
    },
    {
     "data": {
      "text/html": [
       "<pre style=\"white-space:pre;overflow-x:auto;line-height:normal;font-family:Menlo,'DejaVu Sans Mono',consolas,'Courier New',monospace\">/Users/thinhhoang/miniforge3/envs/traffic/lib/python3.9/site-packages/ipywidgets/widgets/widg\n",
       "et_output.py:111: DeprecationWarning: Kernel._parent_header is deprecated in ipykernel 6. Use\n",
       ".get_parent()\n",
       "  if ip and hasattr(ip, 'kernel') and hasattr(ip.kernel, '_parent_header'):\n",
       "</pre>\n"
      ],
      "text/plain": [
       "/Users/thinhhoang/miniforge3/envs/traffic/lib/python3.9/site-packages/ipywidgets/widgets/widg\n",
       "et_output.py:111: DeprecationWarning: Kernel._parent_header is deprecated in ipykernel 6. Use\n",
       ".get_parent()\n",
       "  if ip and hasattr(ip, 'kernel') and hasattr(ip.kernel, '_parent_header'):\n"
      ]
     },
     "metadata": {},
     "output_type": "display_data"
    },
    {
     "data": {
      "text/html": [
       "<pre style=\"white-space:pre;overflow-x:auto;line-height:normal;font-family:Menlo,'DejaVu Sans Mono',consolas,'Courier New',monospace\">/Users/thinhhoang/miniforge3/envs/traffic/lib/python3.9/site-packages/ipywidgets/widgets/widg\n",
       "et_output.py:111: DeprecationWarning: Kernel._parent_header is deprecated in ipykernel 6. Use\n",
       ".get_parent()\n",
       "  if ip and hasattr(ip, 'kernel') and hasattr(ip.kernel, '_parent_header'):\n",
       "</pre>\n"
      ],
      "text/plain": [
       "/Users/thinhhoang/miniforge3/envs/traffic/lib/python3.9/site-packages/ipywidgets/widgets/widg\n",
       "et_output.py:111: DeprecationWarning: Kernel._parent_header is deprecated in ipykernel 6. Use\n",
       ".get_parent()\n",
       "  if ip and hasattr(ip, 'kernel') and hasattr(ip.kernel, '_parent_header'):\n"
      ]
     },
     "metadata": {},
     "output_type": "display_data"
    },
    {
     "data": {
      "text/html": [
       "<pre style=\"white-space:pre;overflow-x:auto;line-height:normal;font-family:Menlo,'DejaVu Sans Mono',consolas,'Courier New',monospace\">/Users/thinhhoang/miniforge3/envs/traffic/lib/python3.9/site-packages/ipywidgets/widgets/widg\n",
       "et_output.py:111: DeprecationWarning: Kernel._parent_header is deprecated in ipykernel 6. Use\n",
       ".get_parent()\n",
       "  if ip and hasattr(ip, 'kernel') and hasattr(ip.kernel, '_parent_header'):\n",
       "</pre>\n"
      ],
      "text/plain": [
       "/Users/thinhhoang/miniforge3/envs/traffic/lib/python3.9/site-packages/ipywidgets/widgets/widg\n",
       "et_output.py:111: DeprecationWarning: Kernel._parent_header is deprecated in ipykernel 6. Use\n",
       ".get_parent()\n",
       "  if ip and hasattr(ip, 'kernel') and hasattr(ip.kernel, '_parent_header'):\n"
      ]
     },
     "metadata": {},
     "output_type": "display_data"
    },
    {
     "data": {
      "text/html": [
       "<pre style=\"white-space:pre;overflow-x:auto;line-height:normal;font-family:Menlo,'DejaVu Sans Mono',consolas,'Courier New',monospace\">/Users/thinhhoang/miniforge3/envs/traffic/lib/python3.9/site-packages/ipywidgets/widgets/widg\n",
       "et_output.py:111: DeprecationWarning: Kernel._parent_header is deprecated in ipykernel 6. Use\n",
       ".get_parent()\n",
       "  if ip and hasattr(ip, 'kernel') and hasattr(ip.kernel, '_parent_header'):\n",
       "</pre>\n"
      ],
      "text/plain": [
       "/Users/thinhhoang/miniforge3/envs/traffic/lib/python3.9/site-packages/ipywidgets/widgets/widg\n",
       "et_output.py:111: DeprecationWarning: Kernel._parent_header is deprecated in ipykernel 6. Use\n",
       ".get_parent()\n",
       "  if ip and hasattr(ip, 'kernel') and hasattr(ip.kernel, '_parent_header'):\n"
      ]
     },
     "metadata": {},
     "output_type": "display_data"
    },
    {
     "data": {
      "text/html": [
       "<pre style=\"white-space:pre;overflow-x:auto;line-height:normal;font-family:Menlo,'DejaVu Sans Mono',consolas,'Courier New',monospace\">/Users/thinhhoang/miniforge3/envs/traffic/lib/python3.9/site-packages/ipywidgets/widgets/widg\n",
       "et_output.py:111: DeprecationWarning: Kernel._parent_header is deprecated in ipykernel 6. Use\n",
       ".get_parent()\n",
       "  if ip and hasattr(ip, 'kernel') and hasattr(ip.kernel, '_parent_header'):\n",
       "</pre>\n"
      ],
      "text/plain": [
       "/Users/thinhhoang/miniforge3/envs/traffic/lib/python3.9/site-packages/ipywidgets/widgets/widg\n",
       "et_output.py:111: DeprecationWarning: Kernel._parent_header is deprecated in ipykernel 6. Use\n",
       ".get_parent()\n",
       "  if ip and hasattr(ip, 'kernel') and hasattr(ip.kernel, '_parent_header'):\n"
      ]
     },
     "metadata": {},
     "output_type": "display_data"
    },
    {
     "data": {
      "text/html": [
       "<pre style=\"white-space:pre;overflow-x:auto;line-height:normal;font-family:Menlo,'DejaVu Sans Mono',consolas,'Courier New',monospace\">/Users/thinhhoang/miniforge3/envs/traffic/lib/python3.9/site-packages/ipywidgets/widgets/widg\n",
       "et_output.py:111: DeprecationWarning: Kernel._parent_header is deprecated in ipykernel 6. Use\n",
       ".get_parent()\n",
       "  if ip and hasattr(ip, 'kernel') and hasattr(ip.kernel, '_parent_header'):\n",
       "</pre>\n"
      ],
      "text/plain": [
       "/Users/thinhhoang/miniforge3/envs/traffic/lib/python3.9/site-packages/ipywidgets/widgets/widg\n",
       "et_output.py:111: DeprecationWarning: Kernel._parent_header is deprecated in ipykernel 6. Use\n",
       ".get_parent()\n",
       "  if ip and hasattr(ip, 'kernel') and hasattr(ip.kernel, '_parent_header'):\n"
      ]
     },
     "metadata": {},
     "output_type": "display_data"
    },
    {
     "data": {
      "text/html": [
       "<pre style=\"white-space:pre;overflow-x:auto;line-height:normal;font-family:Menlo,'DejaVu Sans Mono',consolas,'Courier New',monospace\">/Users/thinhhoang/miniforge3/envs/traffic/lib/python3.9/site-packages/ipywidgets/widgets/widg\n",
       "et_output.py:111: DeprecationWarning: Kernel._parent_header is deprecated in ipykernel 6. Use\n",
       ".get_parent()\n",
       "  if ip and hasattr(ip, 'kernel') and hasattr(ip.kernel, '_parent_header'):\n",
       "</pre>\n"
      ],
      "text/plain": [
       "/Users/thinhhoang/miniforge3/envs/traffic/lib/python3.9/site-packages/ipywidgets/widgets/widg\n",
       "et_output.py:111: DeprecationWarning: Kernel._parent_header is deprecated in ipykernel 6. Use\n",
       ".get_parent()\n",
       "  if ip and hasattr(ip, 'kernel') and hasattr(ip.kernel, '_parent_header'):\n"
      ]
     },
     "metadata": {},
     "output_type": "display_data"
    },
    {
     "data": {
      "text/html": [
       "<pre style=\"white-space:pre;overflow-x:auto;line-height:normal;font-family:Menlo,'DejaVu Sans Mono',consolas,'Courier New',monospace\">/Users/thinhhoang/miniforge3/envs/traffic/lib/python3.9/site-packages/ipywidgets/widgets/widg\n",
       "et_output.py:111: DeprecationWarning: Kernel._parent_header is deprecated in ipykernel 6. Use\n",
       ".get_parent()\n",
       "  if ip and hasattr(ip, 'kernel') and hasattr(ip.kernel, '_parent_header'):\n",
       "</pre>\n"
      ],
      "text/plain": [
       "/Users/thinhhoang/miniforge3/envs/traffic/lib/python3.9/site-packages/ipywidgets/widgets/widg\n",
       "et_output.py:111: DeprecationWarning: Kernel._parent_header is deprecated in ipykernel 6. Use\n",
       ".get_parent()\n",
       "  if ip and hasattr(ip, 'kernel') and hasattr(ip.kernel, '_parent_header'):\n"
      ]
     },
     "metadata": {},
     "output_type": "display_data"
    },
    {
     "data": {
      "text/html": [
       "<pre style=\"white-space:pre;overflow-x:auto;line-height:normal;font-family:Menlo,'DejaVu Sans Mono',consolas,'Courier New',monospace\"></pre>\n"
      ],
      "text/plain": []
     },
     "metadata": {},
     "output_type": "display_data"
    },
    {
     "data": {
      "text/html": [
       "<pre style=\"white-space:pre;overflow-x:auto;line-height:normal;font-family:Menlo,'DejaVu Sans Mono',consolas,'Courier New',monospace\">\n",
       "</pre>\n"
      ],
      "text/plain": [
       "\n"
      ]
     },
     "metadata": {},
     "output_type": "display_data"
    }
   ],
   "source": [
    "use_local_db = False\n",
    "\n",
    "if not use_local_db:\n",
    "    fl = opensky.history(\"2021-05-24 15:00\", \"2021-05-24 19:00\", arrival_airport='KDFW')\n",
    "    fl_data = fl.data\n",
    "    save_fl_data_to_pickle(fl, fl_data)"
   ]
  },
  {
   "cell_type": "code",
   "execution_count": 4,
   "metadata": {},
   "outputs": [],
   "source": [
    "def get_lat_lon_at_time(min_time, t):\n",
    "    current_time = min_time + pd.Timedelta(str(t) + ' second')\n",
    "    df_current_time = fl_data[fl_data['timestamp']==current_time]\n",
    "    return(np.array(df_current_time[['latitude', 'longitude']].values.tolist()))"
   ]
  },
  {
   "cell_type": "code",
   "execution_count": 5,
   "metadata": {},
   "outputs": [],
   "source": [
    "def load_fl_data():\n",
    "    with open('openskyobject.pkl', 'rb') as f:\n",
    "        oso = pickle.load(f)\n",
    "    return oso\n",
    "\n",
    "if use_local_db:\n",
    "    fl = load_fl_data()\n",
    "    print('Data was successfully loaded from local storage')\n",
    "    fl_data = fl.data"
   ]
  },
  {
   "cell_type": "code",
   "execution_count": 28,
   "metadata": {},
   "outputs": [
    {
     "name": "stderr",
     "output_type": "stream",
     "text": [
      "/Users/thinhhoang/miniforge3/envs/traffic/lib/python3.9/site-packages/cartopy/mpl/geoaxes.py:1797: MatplotlibDeprecationWarning: Auto-removal of grids by pcolor() and pcolormesh() is deprecated since 3.5 and will be removed two minor releases later; please call grid(False) first.\n",
      "  result = matplotlib.axes.Axes.pcolormesh(self, *args, **kwargs)\n",
      "/Users/thinhhoang/miniforge3/envs/traffic/lib/python3.9/site-packages/cartopy/mpl/geoaxes.py:1797: MatplotlibDeprecationWarning: Auto-removal of grids by pcolor() and pcolormesh() is deprecated since 3.5 and will be removed two minor releases later; please call grid(False) first.\n",
      "  result = matplotlib.axes.Axes.pcolormesh(self, *args, **kwargs)\n",
      "/Users/thinhhoang/miniforge3/envs/traffic/lib/python3.9/site-packages/cartopy/mpl/geoaxes.py:1797: MatplotlibDeprecationWarning: Auto-removal of grids by pcolor() and pcolormesh() is deprecated since 3.5 and will be removed two minor releases later; please call grid(False) first.\n",
      "  result = matplotlib.axes.Axes.pcolormesh(self, *args, **kwargs)\n",
      "/Users/thinhhoang/miniforge3/envs/traffic/lib/python3.9/site-packages/cartopy/mpl/geoaxes.py:1797: MatplotlibDeprecationWarning: Auto-removal of grids by pcolor() and pcolormesh() is deprecated since 3.5 and will be removed two minor releases later; please call grid(False) first.\n",
      "  result = matplotlib.axes.Axes.pcolormesh(self, *args, **kwargs)\n",
      "/Users/thinhhoang/miniforge3/envs/traffic/lib/python3.9/site-packages/cartopy/mpl/geoaxes.py:1797: MatplotlibDeprecationWarning: Auto-removal of grids by pcolor() and pcolormesh() is deprecated since 3.5 and will be removed two minor releases later; please call grid(False) first.\n",
      "  result = matplotlib.axes.Axes.pcolormesh(self, *args, **kwargs)\n",
      "/Users/thinhhoang/miniforge3/envs/traffic/lib/python3.9/site-packages/cartopy/mpl/geoaxes.py:1797: MatplotlibDeprecationWarning: Auto-removal of grids by pcolor() and pcolormesh() is deprecated since 3.5 and will be removed two minor releases later; please call grid(False) first.\n",
      "  result = matplotlib.axes.Axes.pcolormesh(self, *args, **kwargs)\n",
      "/Users/thinhhoang/miniforge3/envs/traffic/lib/python3.9/site-packages/cartopy/mpl/geoaxes.py:1797: MatplotlibDeprecationWarning: Auto-removal of grids by pcolor() and pcolormesh() is deprecated since 3.5 and will be removed two minor releases later; please call grid(False) first.\n",
      "  result = matplotlib.axes.Axes.pcolormesh(self, *args, **kwargs)\n",
      "/Users/thinhhoang/miniforge3/envs/traffic/lib/python3.9/site-packages/cartopy/mpl/geoaxes.py:1797: MatplotlibDeprecationWarning: Auto-removal of grids by pcolor() and pcolormesh() is deprecated since 3.5 and will be removed two minor releases later; please call grid(False) first.\n",
      "  result = matplotlib.axes.Axes.pcolormesh(self, *args, **kwargs)\n",
      "/Users/thinhhoang/miniforge3/envs/traffic/lib/python3.9/site-packages/cartopy/mpl/geoaxes.py:1797: MatplotlibDeprecationWarning: Auto-removal of grids by pcolor() and pcolormesh() is deprecated since 3.5 and will be removed two minor releases later; please call grid(False) first.\n",
      "  result = matplotlib.axes.Axes.pcolormesh(self, *args, **kwargs)\n",
      "/Users/thinhhoang/miniforge3/envs/traffic/lib/python3.9/site-packages/cartopy/mpl/geoaxes.py:1797: MatplotlibDeprecationWarning: Auto-removal of grids by pcolor() and pcolormesh() is deprecated since 3.5 and will be removed two minor releases later; please call grid(False) first.\n",
      "  result = matplotlib.axes.Axes.pcolormesh(self, *args, **kwargs)\n",
      "/Users/thinhhoang/miniforge3/envs/traffic/lib/python3.9/site-packages/cartopy/mpl/geoaxes.py:1797: MatplotlibDeprecationWarning: Auto-removal of grids by pcolor() and pcolormesh() is deprecated since 3.5 and will be removed two minor releases later; please call grid(False) first.\n",
      "  result = matplotlib.axes.Axes.pcolormesh(self, *args, **kwargs)\n",
      "/Users/thinhhoang/miniforge3/envs/traffic/lib/python3.9/site-packages/cartopy/mpl/geoaxes.py:1797: MatplotlibDeprecationWarning: Auto-removal of grids by pcolor() and pcolormesh() is deprecated since 3.5 and will be removed two minor releases later; please call grid(False) first.\n",
      "  result = matplotlib.axes.Axes.pcolormesh(self, *args, **kwargs)\n"
     ]
    },
    {
     "data": {
      "image/png": "[encoded data removed]",
      "text/plain": [
       "<Figure size 640x480 with 1 Axes>"
      ]
     },
     "metadata": {},
     "output_type": "display_data"
    }
   ],
   "source": [
    "fig, ax = plt.subplots(subplot_kw=dict(projection=projection))\n",
    "# Weather GRIB2\n",
    "grbs = pygrib.open('hrrr.20141029-conus-hrrr.t00z.wrfnatf13.grib2') # 13th hour forecase from midnight i.e., 1PM\n",
    "grb = grbs.select(name='Vertically-integrated liquid')[0]\n",
    "grb_lat = grb.latlons()[0]\n",
    "grb_lon = grb.latlons()[1]\n",
    "grb_val = grb.values\n",
    "min_time = fl_data['timestamp'].min() # first timestamp in the dataset\n",
    "def render_frame(ti):\n",
    "    with plt.style.context(\"traffic\"):\n",
    "        ax.clear()\n",
    "        # coastlines of the US, and the state borders\n",
    "        ax.add_feature(cfeature.COASTLINE.with_scale('50m'), linewidth=2)\n",
    "        ax.add_feature(cfeature.STATES.with_scale('50m'))\n",
    "        ax.set_extent((-115, -85, 15, 50))\n",
    "        # embed the VIL field\n",
    "        # TODO: Automatically load grib depending on the time of the frame being rendered \n",
    "        ax.pcolormesh(grb_lon, grb_lat, grb_val, transform=ccrs.PlateCarree(), shading='nearest')\n",
    "        # ax.gridlines(draw_labels=True) # turn this on for plotting grid lines\n",
    "        # ax.spines[\"geo\"].set_visible(False)\n",
    "        for t in range(100):\n",
    "            latlons = get_lat_lon_at_time(min_time, ti * 100 + t) # 100 secs between each frame \n",
    "            if latlons.shape[0] == 0:\n",
    "                # We have an empty latlons to plot, perhaps there is absolutely no data at this current timestep\n",
    "                continue\n",
    "            if len(latlons.shape) !=2 :\n",
    "                raise Exception('Invalid latlons shape')\n",
    "            plt.scatter(x=latlons[:,1], y=latlons[:,0], c = t * np.ones((latlons.shape[0],)), transform=ccrs.PlateCarree(), s=2, cmap='cool')\n",
    "        \n",
    "        plt.draw()\n",
    "\n",
    "anim = animation.FuncAnimation(fig, render_frame, 10)\n",
    "writergif = animation.PillowWriter(fps=10)\n",
    "anim.save(\"test.gif\", writer=writergif)"
   ]
  },
  {
   "cell_type": "code",
   "execution_count": null,
   "metadata": {},
   "outputs": [],
   "source": []
  }
 ],
 "metadata": {
  "kernelspec": {
   "display_name": "Python 3.9.13 ('traffic')",
   "language": "python",
   "name": "python3"
  },
  "language_info": {
   "codemirror_mode": {
    "name": "ipython",
    "version": 3
   },
   "file_extension": ".py",
   "mimetype": "text/x-python",
   "name": "python",
   "nbconvert_exporter": "python",
   "pygments_lexer": "ipython3",
   "version": "3.9.13"
  },
  "orig_nbformat": 4,
  "vscode": {
   "interpreter": {
    "hash": "c4809dfd7fa8f33e2a93653f1fad88b426aff751198bfcc40087bfb311aa3cba"
   }
  }
 },
 "nbformat": 4,
 "nbformat_minor": 2
}
