{
 "cells": [
  {
   "cell_type": "markdown",
   "metadata": {},
   "source": [
    "Please use the Traffic environment to run this notebook."
   ]
  },
  {
   "cell_type": "code",
   "execution_count": 1,
   "metadata": {},
   "outputs": [],
   "source": [
    "import pandas as pd\n",
    "import numpy as np \n",
    "from matplotlib import pyplot as plt\n",
    "import pickle\n",
    "\n",
    "%matplotlib inline\n",
    "use_local_db = True"
   ]
  },
  {
   "cell_type": "code",
   "execution_count": 2,
   "metadata": {},
   "outputs": [
    {
     "name": "stdout",
     "output_type": "stream",
     "text": [
      "Data was successfully loaded from local storage\n"
     ]
    }
   ],
   "source": [
    "def load_fl_data():\n",
    "    with open('openskyobject.pkl', 'rb') as f:\n",
    "        oso = pickle.load(f)\n",
    "    return oso\n",
    "\n",
    "if use_local_db:\n",
    "    fl = load_fl_data()\n",
    "    print('Data was successfully loaded from local storage')\n",
    "    fl_data = fl.data"
   ]
  },
  {
   "cell_type": "markdown",
   "metadata": {},
   "source": [
    "Check out the data:"
   ]
  },
  {
   "cell_type": "code",
   "execution_count": 3,
   "metadata": {},
   "outputs": [
    {
     "data": {
      "text/html": [
       "<div>\n",
       "<style scoped>\n",
       "    .dataframe tbody tr th:only-of-type {\n",
       "        vertical-align: middle;\n",
       "    }\n",
       "\n",
       "    .dataframe tbody tr th {\n",
       "        vertical-align: top;\n",
       "    }\n",
       "\n",
       "    .dataframe thead th {\n",
       "        text-align: right;\n",
       "    }\n",
       "</style>\n",
       "<table border=\"1\" class=\"dataframe\">\n",
       "  <thead>\n",
       "    <tr style=\"text-align: right;\">\n",
       "      <th></th>\n",
       "      <th>alert</th>\n",
       "      <th>altitude</th>\n",
       "      <th>callsign</th>\n",
       "      <th>day</th>\n",
       "      <th>destination</th>\n",
       "      <th>firstseen</th>\n",
       "      <th>geoaltitude</th>\n",
       "      <th>groundspeed</th>\n",
       "      <th>hour</th>\n",
       "      <th>icao24</th>\n",
       "      <th>...</th>\n",
       "      <th>lastseen</th>\n",
       "      <th>latitude</th>\n",
       "      <th>longitude</th>\n",
       "      <th>onground</th>\n",
       "      <th>origin</th>\n",
       "      <th>spi</th>\n",
       "      <th>squawk</th>\n",
       "      <th>timestamp</th>\n",
       "      <th>track</th>\n",
       "      <th>vertical_rate</th>\n",
       "    </tr>\n",
       "  </thead>\n",
       "  <tbody>\n",
       "    <tr>\n",
       "      <th>13432</th>\n",
       "      <td>False</td>\n",
       "      <td>34725.0</td>\n",
       "      <td>AAL1114</td>\n",
       "      <td>2021-05-24 00:00:00+00:00</td>\n",
       "      <td>KDFW</td>\n",
       "      <td>2021-05-24 14:42:07+00:00</td>\n",
       "      <td>36625.0</td>\n",
       "      <td>448.0</td>\n",
       "      <td>2021-05-24 15:00:00+00:00</td>\n",
       "      <td>aa8315</td>\n",
       "      <td>...</td>\n",
       "      <td>2021-05-24 17:03:42+00:00</td>\n",
       "      <td>26.794537</td>\n",
       "      <td>-81.471757</td>\n",
       "      <td>False</td>\n",
       "      <td>KMIA</td>\n",
       "      <td>False</td>\n",
       "      <td>None</td>\n",
       "      <td>2021-05-24 15:00:01+00:00</td>\n",
       "      <td>294.221920</td>\n",
       "      <td>1728.0</td>\n",
       "    </tr>\n",
       "    <tr>\n",
       "      <th>201075</th>\n",
       "      <td>False</td>\n",
       "      <td>35000.0</td>\n",
       "      <td>ENY4155</td>\n",
       "      <td>2021-05-24 00:00:00+00:00</td>\n",
       "      <td>KDFW</td>\n",
       "      <td>2021-05-24 13:59:34+00:00</td>\n",
       "      <td>36125.0</td>\n",
       "      <td>471.0</td>\n",
       "      <td>2021-05-24 15:00:00+00:00</td>\n",
       "      <td>a1d873</td>\n",
       "      <td>...</td>\n",
       "      <td>2021-05-24 16:48:29+00:00</td>\n",
       "      <td>34.864838</td>\n",
       "      <td>-111.834486</td>\n",
       "      <td>False</td>\n",
       "      <td>KSBP</td>\n",
       "      <td>False</td>\n",
       "      <td>3577</td>\n",
       "      <td>2021-05-24 15:00:01+00:00</td>\n",
       "      <td>90.364936</td>\n",
       "      <td>64.0</td>\n",
       "    </tr>\n",
       "    <tr>\n",
       "      <th>195706</th>\n",
       "      <td>False</td>\n",
       "      <td>39975.0</td>\n",
       "      <td>AAL221</td>\n",
       "      <td>2021-05-24 00:00:00+00:00</td>\n",
       "      <td>KDFW</td>\n",
       "      <td>2021-05-24 07:32:17+00:00</td>\n",
       "      <td>41625.0</td>\n",
       "      <td>457.0</td>\n",
       "      <td>2021-05-24 15:00:00+00:00</td>\n",
       "      <td>ab5c12</td>\n",
       "      <td>...</td>\n",
       "      <td>2021-05-24 17:15:41+00:00</td>\n",
       "      <td>39.343094</td>\n",
       "      <td>-78.926557</td>\n",
       "      <td>False</td>\n",
       "      <td>EHAM</td>\n",
       "      <td>False</td>\n",
       "      <td>4377</td>\n",
       "      <td>2021-05-24 15:00:01+00:00</td>\n",
       "      <td>246.965863</td>\n",
       "      <td>-64.0</td>\n",
       "    </tr>\n",
       "    <tr>\n",
       "      <th>188699</th>\n",
       "      <td>False</td>\n",
       "      <td>38000.0</td>\n",
       "      <td>UAL279</td>\n",
       "      <td>2021-05-24 00:00:00+00:00</td>\n",
       "      <td>KDFW</td>\n",
       "      <td>2021-05-24 13:59:33+00:00</td>\n",
       "      <td>39875.0</td>\n",
       "      <td>443.0</td>\n",
       "      <td>2021-05-24 15:00:00+00:00</td>\n",
       "      <td>a6f482</td>\n",
       "      <td>...</td>\n",
       "      <td>2021-05-24 17:01:12+00:00</td>\n",
       "      <td>36.838394</td>\n",
       "      <td>-81.408119</td>\n",
       "      <td>False</td>\n",
       "      <td>KEWR</td>\n",
       "      <td>False</td>\n",
       "      <td>1732</td>\n",
       "      <td>2021-05-24 15:00:01+00:00</td>\n",
       "      <td>238.570434</td>\n",
       "      <td>0.0</td>\n",
       "    </tr>\n",
       "    <tr>\n",
       "      <th>183915</th>\n",
       "      <td>False</td>\n",
       "      <td>36000.0</td>\n",
       "      <td>AAL366</td>\n",
       "      <td>2021-05-24 00:00:00+00:00</td>\n",
       "      <td>KDFW</td>\n",
       "      <td>2021-05-24 13:21:45+00:00</td>\n",
       "      <td>37900.0</td>\n",
       "      <td>436.0</td>\n",
       "      <td>2021-05-24 15:00:00+00:00</td>\n",
       "      <td>a99077</td>\n",
       "      <td>...</td>\n",
       "      <td>2021-05-24 16:05:22+00:00</td>\n",
       "      <td>34.625973</td>\n",
       "      <td>-92.378883</td>\n",
       "      <td>False</td>\n",
       "      <td>82PA</td>\n",
       "      <td>False</td>\n",
       "      <td>2236</td>\n",
       "      <td>2021-05-24 15:00:01+00:00</td>\n",
       "      <td>252.230284</td>\n",
       "      <td>-64.0</td>\n",
       "    </tr>\n",
       "  </tbody>\n",
       "</table>\n",
       "<p>5 rows × 21 columns</p>\n",
       "</div>"
      ],
      "text/plain": [
       "        alert  altitude callsign                       day destination  \\\n",
       "13432   False   34725.0  AAL1114 2021-05-24 00:00:00+00:00        KDFW   \n",
       "201075  False   35000.0  ENY4155 2021-05-24 00:00:00+00:00        KDFW   \n",
       "195706  False   39975.0   AAL221 2021-05-24 00:00:00+00:00        KDFW   \n",
       "188699  False   38000.0   UAL279 2021-05-24 00:00:00+00:00        KDFW   \n",
       "183915  False   36000.0   AAL366 2021-05-24 00:00:00+00:00        KDFW   \n",
       "\n",
       "                       firstseen  geoaltitude  groundspeed  \\\n",
       "13432  2021-05-24 14:42:07+00:00      36625.0        448.0   \n",
       "201075 2021-05-24 13:59:34+00:00      36125.0        471.0   \n",
       "195706 2021-05-24 07:32:17+00:00      41625.0        457.0   \n",
       "188699 2021-05-24 13:59:33+00:00      39875.0        443.0   \n",
       "183915 2021-05-24 13:21:45+00:00      37900.0        436.0   \n",
       "\n",
       "                            hour  icao24  ...                  lastseen  \\\n",
       "13432  2021-05-24 15:00:00+00:00  aa8315  ... 2021-05-24 17:03:42+00:00   \n",
       "201075 2021-05-24 15:00:00+00:00  a1d873  ... 2021-05-24 16:48:29+00:00   \n",
       "195706 2021-05-24 15:00:00+00:00  ab5c12  ... 2021-05-24 17:15:41+00:00   \n",
       "188699 2021-05-24 15:00:00+00:00  a6f482  ... 2021-05-24 17:01:12+00:00   \n",
       "183915 2021-05-24 15:00:00+00:00  a99077  ... 2021-05-24 16:05:22+00:00   \n",
       "\n",
       "         latitude   longitude  onground  origin    spi  squawk  \\\n",
       "13432   26.794537  -81.471757     False    KMIA  False    None   \n",
       "201075  34.864838 -111.834486     False    KSBP  False    3577   \n",
       "195706  39.343094  -78.926557     False    EHAM  False    4377   \n",
       "188699  36.838394  -81.408119     False    KEWR  False    1732   \n",
       "183915  34.625973  -92.378883     False    82PA  False    2236   \n",
       "\n",
       "                       timestamp       track  vertical_rate  \n",
       "13432  2021-05-24 15:00:01+00:00  294.221920         1728.0  \n",
       "201075 2021-05-24 15:00:01+00:00   90.364936           64.0  \n",
       "195706 2021-05-24 15:00:01+00:00  246.965863          -64.0  \n",
       "188699 2021-05-24 15:00:01+00:00  238.570434            0.0  \n",
       "183915 2021-05-24 15:00:01+00:00  252.230284          -64.0  \n",
       "\n",
       "[5 rows x 21 columns]"
      ]
     },
     "execution_count": 3,
     "metadata": {},
     "output_type": "execute_result"
    }
   ],
   "source": [
    "fl_data.head()"
   ]
  },
  {
   "cell_type": "code",
   "execution_count": 4,
   "metadata": {},
   "outputs": [
    {
     "name": "stdout",
     "output_type": "stream",
     "text": [
      "There are 299 callsigns in the dataframe\n"
     ]
    }
   ],
   "source": [
    "callsigns = fl_data['callsign'].unique()\n",
    "print('There are {} callsigns in the dataframe'.format(len(callsigns)))"
   ]
  },
  {
   "cell_type": "code",
   "execution_count": 5,
   "metadata": {},
   "outputs": [
    {
     "name": "stdout",
     "output_type": "stream",
     "text": [
      "Number of NA entries by columns\n"
     ]
    },
    {
     "data": {
      "text/plain": [
       "alert                 0\n",
       "altitude          39620\n",
       "callsign              0\n",
       "day                   0\n",
       "destination           0\n",
       "firstseen             0\n",
       "geoaltitude       40859\n",
       "groundspeed         830\n",
       "hour                  0\n",
       "icao24                0\n",
       "last_position     41296\n",
       "lastseen              0\n",
       "latitude          41296\n",
       "longitude         41296\n",
       "onground              0\n",
       "origin           225911\n",
       "spi                   0\n",
       "squawk           231977\n",
       "timestamp             0\n",
       "track               830\n",
       "vertical_rate       830\n",
       "dtype: int64"
      ]
     },
     "execution_count": 5,
     "metadata": {},
     "output_type": "execute_result"
    }
   ],
   "source": [
    "print('Number of NA entries by columns')\n",
    "fl_data.isna().sum()"
   ]
  },
  {
   "cell_type": "code",
   "execution_count": 7,
   "metadata": {},
   "outputs": [
    {
     "name": "stdout",
     "output_type": "stream",
     "text": [
      "NA entries group by callsign\n"
     ]
    },
    {
     "data": {
      "text/html": [
       "<div>\n",
       "<style scoped>\n",
       "    .dataframe tbody tr th:only-of-type {\n",
       "        vertical-align: middle;\n",
       "    }\n",
       "\n",
       "    .dataframe tbody tr th {\n",
       "        vertical-align: top;\n",
       "    }\n",
       "\n",
       "    .dataframe thead th {\n",
       "        text-align: right;\n",
       "    }\n",
       "</style>\n",
       "<table border=\"1\" class=\"dataframe\">\n",
       "  <thead>\n",
       "    <tr style=\"text-align: right;\">\n",
       "      <th></th>\n",
       "      <th>alert</th>\n",
       "      <th>altitude</th>\n",
       "      <th>day</th>\n",
       "      <th>destination</th>\n",
       "      <th>firstseen</th>\n",
       "      <th>geoaltitude</th>\n",
       "      <th>groundspeed</th>\n",
       "      <th>hour</th>\n",
       "      <th>icao24</th>\n",
       "      <th>last_position</th>\n",
       "      <th>lastseen</th>\n",
       "      <th>latitude</th>\n",
       "      <th>longitude</th>\n",
       "      <th>onground</th>\n",
       "      <th>origin</th>\n",
       "      <th>spi</th>\n",
       "      <th>squawk</th>\n",
       "      <th>timestamp</th>\n",
       "      <th>track</th>\n",
       "      <th>vertical_rate</th>\n",
       "    </tr>\n",
       "    <tr>\n",
       "      <th>callsign</th>\n",
       "      <th></th>\n",
       "      <th></th>\n",
       "      <th></th>\n",
       "      <th></th>\n",
       "      <th></th>\n",
       "      <th></th>\n",
       "      <th></th>\n",
       "      <th></th>\n",
       "      <th></th>\n",
       "      <th></th>\n",
       "      <th></th>\n",
       "      <th></th>\n",
       "      <th></th>\n",
       "      <th></th>\n",
       "      <th></th>\n",
       "      <th></th>\n",
       "      <th></th>\n",
       "      <th></th>\n",
       "      <th></th>\n",
       "      <th></th>\n",
       "    </tr>\n",
       "  </thead>\n",
       "  <tbody>\n",
       "    <tr>\n",
       "      <th>AAL1013</th>\n",
       "      <td>0</td>\n",
       "      <td>0</td>\n",
       "      <td>0</td>\n",
       "      <td>0</td>\n",
       "      <td>0</td>\n",
       "      <td>0</td>\n",
       "      <td>0</td>\n",
       "      <td>0</td>\n",
       "      <td>0</td>\n",
       "      <td>0</td>\n",
       "      <td>0</td>\n",
       "      <td>0</td>\n",
       "      <td>0</td>\n",
       "      <td>0</td>\n",
       "      <td>0</td>\n",
       "      <td>0</td>\n",
       "      <td>2</td>\n",
       "      <td>0</td>\n",
       "      <td>0</td>\n",
       "      <td>0</td>\n",
       "    </tr>\n",
       "    <tr>\n",
       "      <th>AAL1019</th>\n",
       "      <td>0</td>\n",
       "      <td>2</td>\n",
       "      <td>0</td>\n",
       "      <td>0</td>\n",
       "      <td>0</td>\n",
       "      <td>7</td>\n",
       "      <td>1</td>\n",
       "      <td>0</td>\n",
       "      <td>0</td>\n",
       "      <td>2</td>\n",
       "      <td>0</td>\n",
       "      <td>2</td>\n",
       "      <td>2</td>\n",
       "      <td>0</td>\n",
       "      <td>0</td>\n",
       "      <td>0</td>\n",
       "      <td>3626</td>\n",
       "      <td>0</td>\n",
       "      <td>1</td>\n",
       "      <td>1</td>\n",
       "    </tr>\n",
       "    <tr>\n",
       "      <th>AAL1025</th>\n",
       "      <td>0</td>\n",
       "      <td>2208</td>\n",
       "      <td>0</td>\n",
       "      <td>0</td>\n",
       "      <td>0</td>\n",
       "      <td>2209</td>\n",
       "      <td>0</td>\n",
       "      <td>0</td>\n",
       "      <td>0</td>\n",
       "      <td>2208</td>\n",
       "      <td>0</td>\n",
       "      <td>2208</td>\n",
       "      <td>2208</td>\n",
       "      <td>0</td>\n",
       "      <td>0</td>\n",
       "      <td>0</td>\n",
       "      <td>3679</td>\n",
       "      <td>0</td>\n",
       "      <td>0</td>\n",
       "      <td>0</td>\n",
       "    </tr>\n",
       "    <tr>\n",
       "      <th>AAL1055</th>\n",
       "      <td>0</td>\n",
       "      <td>2160</td>\n",
       "      <td>0</td>\n",
       "      <td>0</td>\n",
       "      <td>0</td>\n",
       "      <td>2161</td>\n",
       "      <td>0</td>\n",
       "      <td>0</td>\n",
       "      <td>0</td>\n",
       "      <td>2160</td>\n",
       "      <td>0</td>\n",
       "      <td>2160</td>\n",
       "      <td>2160</td>\n",
       "      <td>0</td>\n",
       "      <td>0</td>\n",
       "      <td>0</td>\n",
       "      <td>3689</td>\n",
       "      <td>0</td>\n",
       "      <td>0</td>\n",
       "      <td>0</td>\n",
       "    </tr>\n",
       "    <tr>\n",
       "      <th>AAL1059</th>\n",
       "      <td>0</td>\n",
       "      <td>0</td>\n",
       "      <td>0</td>\n",
       "      <td>0</td>\n",
       "      <td>0</td>\n",
       "      <td>0</td>\n",
       "      <td>0</td>\n",
       "      <td>0</td>\n",
       "      <td>0</td>\n",
       "      <td>0</td>\n",
       "      <td>0</td>\n",
       "      <td>0</td>\n",
       "      <td>0</td>\n",
       "      <td>0</td>\n",
       "      <td>0</td>\n",
       "      <td>0</td>\n",
       "      <td>36</td>\n",
       "      <td>0</td>\n",
       "      <td>0</td>\n",
       "      <td>0</td>\n",
       "    </tr>\n",
       "    <tr>\n",
       "      <th>...</th>\n",
       "      <td>...</td>\n",
       "      <td>...</td>\n",
       "      <td>...</td>\n",
       "      <td>...</td>\n",
       "      <td>...</td>\n",
       "      <td>...</td>\n",
       "      <td>...</td>\n",
       "      <td>...</td>\n",
       "      <td>...</td>\n",
       "      <td>...</td>\n",
       "      <td>...</td>\n",
       "      <td>...</td>\n",
       "      <td>...</td>\n",
       "      <td>...</td>\n",
       "      <td>...</td>\n",
       "      <td>...</td>\n",
       "      <td>...</td>\n",
       "      <td>...</td>\n",
       "      <td>...</td>\n",
       "      <td>...</td>\n",
       "    </tr>\n",
       "    <tr>\n",
       "      <th>AAL2472</th>\n",
       "      <td>0</td>\n",
       "      <td>0</td>\n",
       "      <td>0</td>\n",
       "      <td>0</td>\n",
       "      <td>0</td>\n",
       "      <td>0</td>\n",
       "      <td>0</td>\n",
       "      <td>0</td>\n",
       "      <td>0</td>\n",
       "      <td>0</td>\n",
       "      <td>0</td>\n",
       "      <td>0</td>\n",
       "      <td>0</td>\n",
       "      <td>0</td>\n",
       "      <td>0</td>\n",
       "      <td>0</td>\n",
       "      <td>0</td>\n",
       "      <td>0</td>\n",
       "      <td>0</td>\n",
       "      <td>0</td>\n",
       "    </tr>\n",
       "    <tr>\n",
       "      <th>AAL2484</th>\n",
       "      <td>0</td>\n",
       "      <td>2031</td>\n",
       "      <td>0</td>\n",
       "      <td>0</td>\n",
       "      <td>0</td>\n",
       "      <td>2032</td>\n",
       "      <td>0</td>\n",
       "      <td>0</td>\n",
       "      <td>0</td>\n",
       "      <td>2148</td>\n",
       "      <td>0</td>\n",
       "      <td>2148</td>\n",
       "      <td>2148</td>\n",
       "      <td>0</td>\n",
       "      <td>0</td>\n",
       "      <td>0</td>\n",
       "      <td>3234</td>\n",
       "      <td>0</td>\n",
       "      <td>0</td>\n",
       "      <td>0</td>\n",
       "    </tr>\n",
       "    <tr>\n",
       "      <th>AAL2487</th>\n",
       "      <td>0</td>\n",
       "      <td>1</td>\n",
       "      <td>0</td>\n",
       "      <td>0</td>\n",
       "      <td>0</td>\n",
       "      <td>1</td>\n",
       "      <td>0</td>\n",
       "      <td>0</td>\n",
       "      <td>0</td>\n",
       "      <td>1</td>\n",
       "      <td>0</td>\n",
       "      <td>1</td>\n",
       "      <td>1</td>\n",
       "      <td>0</td>\n",
       "      <td>0</td>\n",
       "      <td>0</td>\n",
       "      <td>1004</td>\n",
       "      <td>0</td>\n",
       "      <td>0</td>\n",
       "      <td>0</td>\n",
       "    </tr>\n",
       "    <tr>\n",
       "      <th>AAL2535</th>\n",
       "      <td>0</td>\n",
       "      <td>1750</td>\n",
       "      <td>0</td>\n",
       "      <td>0</td>\n",
       "      <td>0</td>\n",
       "      <td>1751</td>\n",
       "      <td>0</td>\n",
       "      <td>0</td>\n",
       "      <td>0</td>\n",
       "      <td>1750</td>\n",
       "      <td>0</td>\n",
       "      <td>1750</td>\n",
       "      <td>1750</td>\n",
       "      <td>0</td>\n",
       "      <td>0</td>\n",
       "      <td>0</td>\n",
       "      <td>4452</td>\n",
       "      <td>0</td>\n",
       "      <td>0</td>\n",
       "      <td>0</td>\n",
       "    </tr>\n",
       "    <tr>\n",
       "      <th>AAL2577</th>\n",
       "      <td>0</td>\n",
       "      <td>665</td>\n",
       "      <td>0</td>\n",
       "      <td>0</td>\n",
       "      <td>0</td>\n",
       "      <td>681</td>\n",
       "      <td>0</td>\n",
       "      <td>0</td>\n",
       "      <td>0</td>\n",
       "      <td>690</td>\n",
       "      <td>0</td>\n",
       "      <td>690</td>\n",
       "      <td>690</td>\n",
       "      <td>0</td>\n",
       "      <td>0</td>\n",
       "      <td>0</td>\n",
       "      <td>4352</td>\n",
       "      <td>0</td>\n",
       "      <td>0</td>\n",
       "      <td>0</td>\n",
       "    </tr>\n",
       "  </tbody>\n",
       "</table>\n",
       "<p>80 rows × 20 columns</p>\n",
       "</div>"
      ],
      "text/plain": [
       "          alert  altitude  day  destination  firstseen  geoaltitude  \\\n",
       "callsign                                                              \n",
       "AAL1013       0         0    0            0          0            0   \n",
       "AAL1019       0         2    0            0          0            7   \n",
       "AAL1025       0      2208    0            0          0         2209   \n",
       "AAL1055       0      2160    0            0          0         2161   \n",
       "AAL1059       0         0    0            0          0            0   \n",
       "...         ...       ...  ...          ...        ...          ...   \n",
       "AAL2472       0         0    0            0          0            0   \n",
       "AAL2484       0      2031    0            0          0         2032   \n",
       "AAL2487       0         1    0            0          0            1   \n",
       "AAL2535       0      1750    0            0          0         1751   \n",
       "AAL2577       0       665    0            0          0          681   \n",
       "\n",
       "          groundspeed  hour  icao24  last_position  lastseen  latitude  \\\n",
       "callsign                                                                 \n",
       "AAL1013             0     0       0              0         0         0   \n",
       "AAL1019             1     0       0              2         0         2   \n",
       "AAL1025             0     0       0           2208         0      2208   \n",
       "AAL1055             0     0       0           2160         0      2160   \n",
       "AAL1059             0     0       0              0         0         0   \n",
       "...               ...   ...     ...            ...       ...       ...   \n",
       "AAL2472             0     0       0              0         0         0   \n",
       "AAL2484             0     0       0           2148         0      2148   \n",
       "AAL2487             0     0       0              1         0         1   \n",
       "AAL2535             0     0       0           1750         0      1750   \n",
       "AAL2577             0     0       0            690         0       690   \n",
       "\n",
       "          longitude  onground  origin  spi  squawk  timestamp  track  \\\n",
       "callsign                                                               \n",
       "AAL1013           0         0       0    0       2          0      0   \n",
       "AAL1019           2         0       0    0    3626          0      1   \n",
       "AAL1025        2208         0       0    0    3679          0      0   \n",
       "AAL1055        2160         0       0    0    3689          0      0   \n",
       "AAL1059           0         0       0    0      36          0      0   \n",
       "...             ...       ...     ...  ...     ...        ...    ...   \n",
       "AAL2472           0         0       0    0       0          0      0   \n",
       "AAL2484        2148         0       0    0    3234          0      0   \n",
       "AAL2487           1         0       0    0    1004          0      0   \n",
       "AAL2535        1750         0       0    0    4452          0      0   \n",
       "AAL2577         690         0       0    0    4352          0      0   \n",
       "\n",
       "          vertical_rate  \n",
       "callsign                 \n",
       "AAL1013               0  \n",
       "AAL1019               1  \n",
       "AAL1025               0  \n",
       "AAL1055               0  \n",
       "AAL1059               0  \n",
       "...                 ...  \n",
       "AAL2472               0  \n",
       "AAL2484               0  \n",
       "AAL2487               0  \n",
       "AAL2535               0  \n",
       "AAL2577               0  \n",
       "\n",
       "[80 rows x 20 columns]"
      ]
     },
     "execution_count": 7,
     "metadata": {},
     "output_type": "execute_result"
    }
   ],
   "source": [
    "print('NA entries group by callsign')\n",
    "dfna = fl_data.isna()\n",
    "dfna['callsign'] = fl_data['callsign']\n",
    "dfna_stat = dfna.groupby(['callsign']).sum()\n",
    "dfna_stat.head(80)"
   ]
  },
  {
   "cell_type": "markdown",
   "metadata": {},
   "source": [
    "As observed, there seems to be different missing patterns between fields. This is understandable since ADS-B does not require the aircraft to transmit the position/altitude information all the time. Only the status code is guaranteed to be always transmit. For more information, see: https://mode-s.org/decode/content/ads-b/1-basics.html. \n",
    "\n",
    "The observations here seem consistent with the function of ADS-B. There's also a lack of coverage to some area by OpenSky."
   ]
  },
  {
   "cell_type": "markdown",
   "metadata": {},
   "source": [
    "We also check if the timestamp is continuous or not. Let's take the flight AAL1025 for example:"
   ]
  },
  {
   "cell_type": "code",
   "execution_count": 23,
   "metadata": {},
   "outputs": [],
   "source": [
    "timestamps_of_one_flight = fl_data[fl_data['callsign']=='AAL1025']['timestamp'].to_numpy()\n",
    "epochs_of_one_flight = [x.value for x in timestamps_of_one_flight]"
   ]
  },
  {
   "cell_type": "markdown",
   "metadata": {},
   "source": [
    "Let's see if there is any duplicate:"
   ]
  },
  {
   "cell_type": "code",
   "execution_count": 27,
   "metadata": {},
   "outputs": [
    {
     "name": "stdout",
     "output_type": "stream",
     "text": [
      "[]\n"
     ]
    }
   ],
   "source": [
    "import collections\n",
    "print([item for item, count in collections.Counter(epochs_of_one_flight).items() if count > 1])"
   ]
  },
  {
   "cell_type": "markdown",
   "metadata": {},
   "source": [
    "Good, so there is no duplicate. Let's check time continuity:"
   ]
  },
  {
   "cell_type": "code",
   "execution_count": 26,
   "metadata": {},
   "outputs": [
    {
     "data": {
      "text/plain": [
       "[<matplotlib.lines.Line2D at 0x17e8ae700>]"
      ]
     },
     "execution_count": 26,
     "metadata": {},
     "output_type": "execute_result"
    },
    {
     "data": {
      "image/png": "[encoded data removed]",
      "text/plain": [
       "<Figure size 640x480 with 1 Axes>"
      ]
     },
     "metadata": {},
     "output_type": "display_data"
    }
   ],
   "source": [
    "plt.plot(epochs_of_one_flight)"
   ]
  },
  {
   "cell_type": "markdown",
   "metadata": {},
   "source": [
    "So the time is not continuous. We see a \"jump\" in timestamp around the 1200th entry. This indicates that beside there are some \"NAs\" in the field, there's a period of time when the aircraft disappeared totally from the radar."
   ]
  },
  {
   "cell_type": "markdown",
   "metadata": {},
   "source": [
    "Take a look at how many entries each columns miss:"
   ]
  },
  {
   "cell_type": "code",
   "execution_count": 29,
   "metadata": {},
   "outputs": [
    {
     "data": {
      "text/plain": [
       "array([  0,   0,   0,   0,   0,   0,   0,   0,   0,   0,   0,   0,   0,\n",
       "         0,   0,   0,   0,   0,   0,   1,   0,   0,   0,   0,   0,   0,\n",
       "         0,   0,   0,   1,   0,   0,   0,   0,   0,   0,   0,   0,   0,\n",
       "         0,   0,   0,   0,   0,   0,   0,   0,   0,   0,   0,   0,   0,\n",
       "         0,   0,   0,   0,   0,   0,   0,   0, 205,   0,   0,   0,   0,\n",
       "         0,   0,   1,   0,   0,   0,   0,   0,   0,   0,   0,   3,   0,\n",
       "       180,   0,   0,   0,   1,   0,   0,   1,   0,   0,   0,   0,  14,\n",
       "         1, 131,   0,   0,   1,   0,   0,   0,   0,   0,   0,   1,   0,\n",
       "         0,   1,   0,   0,   0,   0,   1,   4,   0,   0,   0,   0,   0,\n",
       "         0,   0,   0,   0,   0,   1,   0,   0,   0,   1,   0,   1,   0,\n",
       "         0,   0,   1,   0,   0])"
      ]
     },
     "execution_count": 29,
     "metadata": {},
     "output_type": "execute_result"
    }
   ],
   "source": [
    "dfna_stat['latitude'].to_numpy()"
   ]
  },
  {
   "cell_type": "markdown",
   "metadata": {},
   "source": [
    "So it's clear that some callsigns miss 205 entries, 1 entry, 180 entries, etc..."
   ]
  },
  {
   "cell_type": "code",
   "execution_count": 30,
   "metadata": {},
   "outputs": [
    {
     "data": {
      "text/plain": [
       "array([  0,   0,   0,   0,   0,   0,   0,   0,   0,   0,   0,   0,   0,\n",
       "         0,   0,   0,   0,   0,   0,   1,   0,   0,   0,   0,   0,   0,\n",
       "         0,   0,   0,   1,   0,   0,   0,   0,   0,   0,   0,   0,   0,\n",
       "         0,   0,   0,   0,   0,   0,   0,   0,   0,   0,   0,   0,   0,\n",
       "         0,   0,   0,   0,   0,   0,   0,   0, 205,   0,   0,   0,   0,\n",
       "         0,   0,   1,   0,   0,   0,   0,   0,   0,   0,   0,   3,   0,\n",
       "       180,   0,   0,   0,   1,   0,   0,   1,   0,   0,   0,   0,  14,\n",
       "         1, 131,   0,   0,   1,   0,   0,   0,   0,   0,   0,   1,   0,\n",
       "         0,   1,   0,   0,   0,   0,   1,   4,   0,   0,   0,   0,   0,\n",
       "         0,   0,   0,   0,   0,   1,   0,   0,   0,   1,   0,   1,   0,\n",
       "         0,   0,   1,   0,   0])"
      ]
     },
     "execution_count": 30,
     "metadata": {},
     "output_type": "execute_result"
    }
   ],
   "source": [
    "dfna_stat['longitude'].to_numpy()"
   ]
  },
  {
   "cell_type": "code",
   "execution_count": 31,
   "metadata": {},
   "outputs": [
    {
     "data": {
      "text/plain": [
       "array([  1,   0,   0,  79,   1,   0,   0,   0,   0,  40,   9,   0,   1,\n",
       "         0,   0,   0,   0,  95,   0,   1,   1,   0,   0,   1,   0,  13,\n",
       "        17,   4,   0,   0,   0,   0,  28,  17,   0,   0,   0,   0,   2,\n",
       "         1, 149,   0, 121,   1,   1,   0,   0,   1,   0,   0,   0,   0,\n",
       "         5,   0,   0,   0,   0,   1,   1,   0, 206,   0,   2,   0,   1,\n",
       "        11,  43,   0,   0,   1,   1,   0,   0,   1,   1,   0,   3,   0,\n",
       "       180,   0,   0,   1,   1,   0,   3,   1,   0,   0,   0,   0,  14,\n",
       "         0, 131,   1,   1,   0,   0, 267,   0,   1,   2,   1,   0,   0,\n",
       "         0,   0,   2,   0,   1,   0,   0,   1,   1,   0,   0,   1,   1,\n",
       "         1,   1,   0,   0,   1,   1,   1,   0,   2,   1,   1,   1,   3,\n",
       "         0,   0,   2,   2,   0])"
      ]
     },
     "execution_count": 31,
     "metadata": {},
     "output_type": "execute_result"
    }
   ],
   "source": [
    "dfna_stat['altitude'].to_numpy()"
   ]
  },
  {
   "cell_type": "markdown",
   "metadata": {},
   "source": [
    "This justify for the need to fill in the missing values using low-rank completion!"
   ]
  },
  {
   "cell_type": "code",
   "execution_count": null,
   "metadata": {},
   "outputs": [],
   "source": []
  }
 ],
 "metadata": {
  "kernelspec": {
   "display_name": "Python 3.9.13 ('traffic')",
   "language": "python",
   "name": "python3"
  },
  "language_info": {
   "codemirror_mode": {
    "name": "ipython",
    "version": 3
   },
   "file_extension": ".py",
   "mimetype": "text/x-python",
   "name": "python",
   "nbconvert_exporter": "python",
   "pygments_lexer": "ipython3",
   "version": "3.9.13"
  },
  "orig_nbformat": 4,
  "vscode": {
   "interpreter": {
    "hash": "c4809dfd7fa8f33e2a93653f1fad88b426aff751198bfcc40087bfb311aa3cba"
   }
  }
 },
 "nbformat": 4,
 "nbformat_minor": 2
}
